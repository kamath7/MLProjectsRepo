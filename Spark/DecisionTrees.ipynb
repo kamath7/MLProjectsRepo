{
 "cells": [
  {
   "cell_type": "code",
   "execution_count": 1,
   "metadata": {},
   "outputs": [],
   "source": [
    "from pyspark.mllib.regression import LabeledPoint\n",
    "from pyspark.mllib.tree import DecisionTree\n",
    "from pyspark import SparkConf, SparkContext"
   ]
  },
  {
   "cell_type": "code",
   "execution_count": 2,
   "metadata": {},
   "outputs": [],
   "source": [
    "from numpy import array"
   ]
  },
  {
   "cell_type": "code",
   "execution_count": 3,
   "metadata": {},
   "outputs": [],
   "source": [
    "conf = SparkConf().setMaster(\"local\").setAppName('DecisionTree')\n",
    "sc = SparkContext(conf=conf)"
   ]
  },
  {
   "cell_type": "code",
   "execution_count": 4,
   "metadata": {},
   "outputs": [],
   "source": [
    "def binary(YN):\n",
    "    if (YN == 'Y'):\n",
    "        return 1\n",
    "    else:\n",
    "        return 0\n",
    "\n",
    "def mapEducation(degree):\n",
    "    if (degree == 'BS'):\n",
    "        return 1\n",
    "    elif (degree =='MS'):\n",
    "        return 2\n",
    "    elif (degree == 'PhD'):\n",
    "        return 3\n",
    "    else:\n",
    "        return 0"
   ]
  },
  {
   "cell_type": "code",
   "execution_count": 16,
   "metadata": {},
   "outputs": [],
   "source": [
    "def createEndpoints(fields):\n",
    "    yearsExperience = int(fields[0])\n",
    "    employed = binary(fields[1])\n",
    "    previousEmployers = int(fields[2])\n",
    "    educationLevel = mapEducation(fields[3])\n",
    "    topTier = binary(fields[4])\n",
    "    interned = binary(fields[5])\n",
    "    hired = binary(fields[6])\n",
    "\n",
    "    return LabeledPoint(hired, array([yearsExperience, employed,\n",
    "        previousEmployers, educationLevel, topTier, interned]))\n"
   ]
  },
  {
   "cell_type": "code",
   "execution_count": 17,
   "metadata": {},
   "outputs": [],
   "source": [
    "rawData = sc.textFile(\"PastHires.csv\")\n",
    "header = rawData.first()\n",
    "rawData = rawData.filter(lambda x: x != header) #removing the header"
   ]
  },
  {
   "cell_type": "code",
   "execution_count": 18,
   "metadata": {},
   "outputs": [],
   "source": [
    "csvData = rawData.map( lambda x: x.split(\",\"))"
   ]
  },
  {
   "cell_type": "code",
   "execution_count": 19,
   "metadata": {},
   "outputs": [],
   "source": [
    "trainingData = csvData.map(createEndpoints)"
   ]
  },
  {
   "cell_type": "code",
   "execution_count": 20,
   "metadata": {},
   "outputs": [],
   "source": [
    "testCandidates = [ array([10, 1, 3, 1, 0, 0])]\n",
    "testData = sc.parallelize(testCandidates)"
   ]
  },
  {
   "cell_type": "code",
   "execution_count": 21,
   "metadata": {},
   "outputs": [],
   "source": [
    "model = DecisionTree.trainClassifier(trainingData, numClasses=2,\n",
    "                                     categoricalFeaturesInfo={1:2, 3:4, 4:2, 5:2},\n",
    "                                     impurity='gini', maxDepth=5, maxBins=32)"
   ]
  },
  {
   "cell_type": "code",
   "execution_count": 22,
   "metadata": {},
   "outputs": [],
   "source": [
    "predictions = model.predict(testData)"
   ]
  },
  {
   "cell_type": "code",
   "execution_count": 23,
   "metadata": {},
   "outputs": [
    {
     "name": "stdout",
     "output_type": "stream",
     "text": [
      "Are you hired? \n",
      "\n",
      "1.0\n"
     ]
    }
   ],
   "source": [
    "print(\"Are you hired? \\n\")\n",
    "results = predictions.collect()\n",
    "for result in results:\n",
    "    print(result)"
   ]
  },
  {
   "cell_type": "code",
   "execution_count": null,
   "metadata": {},
   "outputs": [],
   "source": []
  }
 ],
 "metadata": {
  "kernelspec": {
   "display_name": "Python 3",
   "language": "python",
   "name": "python3"
  },
  "language_info": {
   "codemirror_mode": {
    "name": "ipython",
    "version": 3
   },
   "file_extension": ".py",
   "mimetype": "text/x-python",
   "name": "python",
   "nbconvert_exporter": "python",
   "pygments_lexer": "ipython3",
   "version": "3.10.11"
  },
  "orig_nbformat": 4
 },
 "nbformat": 4,
 "nbformat_minor": 2
}
