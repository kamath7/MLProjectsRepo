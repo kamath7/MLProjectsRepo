{
 "cells": [
  {
   "cell_type": "code",
   "execution_count": 1,
   "metadata": {},
   "outputs": [],
   "source": [
    "#won't be running this too due to potato pc problems"
   ]
  },
  {
   "cell_type": "code",
   "execution_count": 2,
   "metadata": {},
   "outputs": [],
   "source": [
    "import tensorflow as tf\n",
    "import os\n",
    "import random\n",
    "import numpy as np"
   ]
  },
  {
   "cell_type": "code",
   "execution_count": 3,
   "metadata": {},
   "outputs": [],
   "source": [
    "seed_num = 12020\n",
    "random.seed(seed_num)\n",
    "np.random.seed(seed_num)\n",
    "tf.random.set_seed(seed_num)"
   ]
  },
  {
   "cell_type": "code",
   "execution_count": 4,
   "metadata": {},
   "outputs": [],
   "source": [
    "from tensorflow.keras.datasets import fashion_mnist\n",
    "\n",
    "(x_train, y_train), (x_test, y_test) = fashion_mnist.load_data()\n",
    "\n",
    "assert x_train.shape == (60000, 28, 28)\n",
    "assert x_test.shape == (10000, 28, 28)\n",
    "assert y_train.shape == (60000,)\n",
    "assert y_test.shape == (10000,)"
   ]
  },
  {
   "cell_type": "code",
   "execution_count": 5,
   "metadata": {},
   "outputs": [
    {
     "data": {
      "image/png": "[encoded data removed]",
      "text/plain": [
       "<Figure size 648x648 with 9 Axes>"
      ]
     },
     "metadata": {
      "needs_background": "light"
     },
     "output_type": "display_data"
    }
   ],
   "source": [
    "import numpy as np \n",
    "\n",
    "from matplotlib import pyplot as plt \n",
    "\n",
    "plt.figure(figsize=(9,9))\n",
    "\n",
    "rand_samples = np.random.choice(60000, 9)\n",
    "\n",
    "for i in range(9):\n",
    "    plt.subplot(3,3,i+1)\n",
    "    plt.imshow(x_train[rand_samples[i]], cmap=\"Greys_r\")\n",
    "    plt.axis('off')\n",
    "\n",
    "plt.show()    "
   ]
  },
  {
   "cell_type": "code",
   "execution_count": 6,
   "metadata": {},
   "outputs": [],
   "source": [
    "dataset = np.concatenate([x_train, x_test], axis = 0 )\n",
    "\n",
    "dataset = np.expand_dims(dataset, -1).astype(\"float32\") / 255"
   ]
  },
  {
   "cell_type": "code",
   "execution_count": 7,
   "metadata": {},
   "outputs": [],
   "source": [
    "from tensorflow import keras\n",
    "from tensorflow.keras import layers \n",
    "\n",
    "\n",
    "class SamplingLayer(layers.Layer):\n",
    "\n",
    "    def call(self, inputs):\n",
    "        zMean, zLogVar = inputs\n",
    "        batch = tf.shape(zMean)[0]\n",
    "        dim = tf.shape(zMean)[1]\n",
    "        epsilon = tf.keras.backend.random_normal(shape=(batch, dim))\n",
    "        return zMean + tf.exp(0.5 * zLogVar) * epsilon"
   ]
  },
  {
   "cell_type": "code",
   "execution_count": 9,
   "metadata": {},
   "outputs": [
    {
     "name": "stdout",
     "output_type": "stream",
     "text": [
      "Model: \"encoder\"\n",
      "__________________________________________________________________________________________________\n",
      " Layer (type)                   Output Shape         Param #     Connected to                     \n",
      "==================================================================================================\n",
      " input_1 (InputLayer)           [(None, 28, 28, 1)]  0           []                               \n",
      "                                                                                                  \n",
      " sequential (Sequential)        (None, 256)          878144      ['input_1[0][0]']                \n",
      "                                                                                                  \n",
      " z_mean (Dense)                 (None, 2)            514         ['sequential[0][0]']             \n",
      "                                                                                                  \n",
      " z_log_var (Dense)              (None, 2)            514         ['sequential[0][0]']             \n",
      "                                                                                                  \n",
      " sampling_layer (SamplingLayer)  (None, 2)           0           ['z_mean[0][0]',                 \n",
      "                                                                  'z_log_var[0][0]']              \n",
      "                                                                                                  \n",
      "==================================================================================================\n",
      "Total params: 879,172\n",
      "Trainable params: 879,172\n",
      "Non-trainable params: 0\n",
      "__________________________________________________________________________________________________\n"
     ]
    }
   ],
   "source": [
    "#building encoder\n",
    "\n",
    "def buildEncoder(latentDim, encoderInputs):\n",
    "    l1 = keras.models.Sequential([\n",
    "    layers.Conv2D(128, 3, activation=\"relu\", strides=2, padding=\"same\"),\n",
    "    layers.Conv2D(64, 3, activation=\"relu\", strides=2, padding=\"same\"),\n",
    "    layers.Flatten(),\n",
    "    layers.Dense(256, activation=\"relu\")\n",
    "    ])\n",
    "    x = l1(encoderInputs)\n",
    "    zMean = layers.Dense(latentDim, name=\"z_mean\")(x)\n",
    "    zLogVar = layers.Dense(latentDim, name=\"z_log_var\")(x)\n",
    "    z = SamplingLayer()([zMean, zLogVar])\n",
    "    return keras.Model(encoderInputs, [zMean, zLogVar, z], name=\"encoder\")\n",
    "\n",
    "\n",
    "encoderInputs = keras.Input(shape=(28, 28, 1))\n",
    "encoder = buildEncoder(2, encoderInputs)\n",
    "encoder.summary()\n"
   ]
  },
  {
   "cell_type": "code",
   "execution_count": 10,
   "metadata": {},
   "outputs": [
    {
     "name": "stdout",
     "output_type": "stream",
     "text": [
      "Model: \"decoder\"\n",
      "_________________________________________________________________\n",
      " Layer (type)                Output Shape              Param #   \n",
      "=================================================================\n",
      " input_2 (InputLayer)        [(None, 2)]               0         \n",
      "                                                                 \n",
      " sequential_1 (Sequential)   (None, 28, 28, 1)         157633    \n",
      "                                                                 \n",
      "=================================================================\n",
      "Total params: 157,633\n",
      "Trainable params: 157,633\n",
      "Non-trainable params: 0\n",
      "_________________________________________________________________\n"
     ]
    }
   ],
   "source": [
    "def buildDecoder(latentInputs):\n",
    "  l1 = keras.models.Sequential([\n",
    "    layers.Dense(7*7*64, activation=\"relu\", input_shape=(latentInputs.shape[1],)),\n",
    "    layers.Reshape((7,7,64)),\n",
    "    layers.Conv2DTranspose(128, 3, activation=\"relu\", strides=2, padding=\"same\"),\n",
    "    layers.Conv2DTranspose(64, 3, activation=\"relu\", strides=2, padding=\"same\"),\n",
    "    layers.Conv2DTranspose(1, 3, activation=\"sigmoid\", padding=\"same\")\n",
    "  ])\n",
    "\n",
    "  return keras.Model(latentInputs, l1(latentInputs), name = \"decoder\")\n",
    "\n",
    "\n",
    "latentInputs = keras.Input(shape=(2,))\n",
    "decoder = buildDecoder(latentInputs)\n",
    "decoder.summary()"
   ]
  },
  {
   "cell_type": "code",
   "execution_count": 11,
   "metadata": {},
   "outputs": [],
   "source": [
    "def reconstructionLoss(data, reconstructed):\n",
    "  return tf.reduce_mean(\n",
    "      tf.reduce_sum(\n",
    "          keras.losses.binary_crossentropy(data, reconstructed),\n",
    "          axis=(1, 2)\n",
    "      )\n",
    "  )"
   ]
  },
  {
   "cell_type": "code",
   "execution_count": 12,
   "metadata": {},
   "outputs": [],
   "source": [
    "def klDivergenceLoss(zMean, zLogVar):\n",
    "  return tf.reduce_mean(\n",
    "      tf.reduce_sum(\n",
    "          -0.5 * (1 + zLogVar - tf.square(zMean) - tf.exp(zLogVar)),\n",
    "          axis=1\n",
    "      )\n",
    "  )"
   ]
  },
  {
   "cell_type": "code",
   "execution_count": null,
   "metadata": {},
   "outputs": [],
   "source": []
  }
 ],
 "metadata": {
  "kernelspec": {
   "display_name": "Python 3",
   "language": "python",
   "name": "python3"
  },
  "language_info": {
   "codemirror_mode": {
    "name": "ipython",
    "version": 3
   },
   "file_extension": ".py",
   "mimetype": "text/x-python",
   "name": "python",
   "nbconvert_exporter": "python",
   "pygments_lexer": "ipython3",
   "version": "3.10.11"
  },
  "orig_nbformat": 4
 },
 "nbformat": 4,
 "nbformat_minor": 2
}
