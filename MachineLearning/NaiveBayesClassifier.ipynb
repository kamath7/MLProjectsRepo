{
 "cells": [
  {
   "cell_type": "code",
   "execution_count": 1,
   "metadata": {},
   "outputs": [],
   "source": [
    "import os\n",
    "import io\n",
    "import numpy\n",
    "import pandas as pd\n",
    "from pandas import DataFrame\n",
    "from sklearn.feature_extraction.text import CountVectorizer\n",
    "from sklearn.naive_bayes import MultinomialNB"
   ]
  },
  {
   "cell_type": "code",
   "execution_count": 2,
   "metadata": {},
   "outputs": [],
   "source": [
    "def readFiles(path):\n",
    "\n",
    "    for root, dirnames, filenames in os.walk(path):\n",
    "        for filename in filenames:\n",
    "            path = os.path.join(root,filename)\n",
    "            inBody = False \n",
    "            lines = []\n",
    "            f = io.open(path, 'r',encoding = \"latin1\")\n",
    "            for line in f:\n",
    "                if inBody:\n",
    "                    lines.append(line)\n",
    "                elif line == \"\\n\":\n",
    "                    inBody = True\n",
    "            f.close()\n",
    "            message = \"\\n\".join(lines)\n",
    "            yield path, message\n"
   ]
  },
  {
   "cell_type": "code",
   "execution_count": 4,
   "metadata": {},
   "outputs": [
    {
     "name": "stderr",
     "output_type": "stream",
     "text": [
      "C:\\Users\\adith\\AppData\\Local\\Temp\\ipykernel_17888\\744883066.py:14: FutureWarning: The frame.append method is deprecated and will be removed from pandas in a future version. Use pandas.concat instead.\n",
      "  data = data.append(dataFrameFromDir(\"D:\\Code\\MachineLearning\\MachineLearning\\emails\\spam\",\"spam\"))\n",
      "C:\\Users\\adith\\AppData\\Local\\Temp\\ipykernel_17888\\744883066.py:15: FutureWarning: The frame.append method is deprecated and will be removed from pandas in a future version. Use pandas.concat instead.\n",
      "  data = data.append(dataFrameFromDir(\"D:\\Code\\MachineLearning\\MachineLearning\\emails\\ham\",\"ham\"))\n"
     ]
    }
   ],
   "source": [
    "def dataFrameFromDir(path, classification):\n",
    "\n",
    "    rows = []\n",
    "    index = []\n",
    "\n",
    "    for filename, message in readFiles(path):\n",
    "        rows.append({\"message\": message, \"class\": classification})\n",
    "        index.append(filename)\n",
    "\n",
    "    return DataFrame(rows, index=index)\n",
    "\n",
    "data = DataFrame({'message':[], \"class\":[]})\n",
    "\n",
    "data = data.append(dataFrameFromDir(\"D:\\Code\\MachineLearning\\MachineLearning\\emails\\spam\",\"spam\"))\n",
    "data = data.append(dataFrameFromDir(\"D:\\Code\\MachineLearning\\MachineLearning\\emails\\ham\",\"ham\"))\n"
   ]
  },
  {
   "cell_type": "code",
   "execution_count": null,
   "metadata": {},
   "outputs": [],
   "source": []
  }
 ],
 "metadata": {
  "kernelspec": {
   "display_name": "Python 3.10.8 64-bit (microsoft store)",
   "language": "python",
   "name": "python3"
  },
  "language_info": {
   "codemirror_mode": {
    "name": "ipython",
    "version": 3
   },
   "file_extension": ".py",
   "mimetype": "text/x-python",
   "name": "python",
   "nbconvert_exporter": "python",
   "pygments_lexer": "ipython3",
   "version": "3.10.10"
  },
  "orig_nbformat": 4,
  "vscode": {
   "interpreter": {
    "hash": "d9b1a9ca9199f6696988493627564c5348eade3f6ea59b9b65fbbaa1359434cd"
   }
  }
 },
 "nbformat": 4,
 "nbformat_minor": 2
}
